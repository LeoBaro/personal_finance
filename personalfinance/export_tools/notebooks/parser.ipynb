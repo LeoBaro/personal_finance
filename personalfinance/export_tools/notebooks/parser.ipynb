{
 "cells": [
  {
   "cell_type": "code",
   "execution_count": null,
   "id": "c7af960a-6204-4fac-a0cb-afc85259fc83",
   "metadata": {},
   "outputs": [],
   "source": [
    "import os\n",
    "import re\n",
    "import datetime\n",
    "import tempfile\n",
    "import pandas as pd\n",
    "import matplotlib.pyplot as plt\n",
    "pd.set_option('display.max_rows', None)\n",
    "pd.set_option(\"display.max_colwidth\", None)"
   ]
  },
  {
   "cell_type": "code",
   "execution_count": null,
   "id": "e2c298d0-7766-49db-a56e-d64565f7b719",
   "metadata": {},
   "outputs": [],
   "source": [
    "start_year=2023\n",
    "end_year=2023\n",
    "start_month=8\n",
    "end_month=8\n",
    "REV_CSV=\"./data/account-statement_2023-08-01_2023-08-21.csv\"\n",
    "UNI_CSV=\"./data/Elenco_Movimenti_Luglio.csv\"\n",
    "start_date = pd.Timestamp(year=start_year, month=start_month, day=1)\n",
    "end_date = pd.Timestamp(year=end_year, month=end_month, day=1) + pd.offsets.MonthEnd(0)"
   ]
  },
  {
   "cell_type": "code",
   "execution_count": null,
   "id": "0f8d6c40-40d1-49b3-adee-f687607a9bd1",
   "metadata": {},
   "outputs": [],
   "source": [
    "def to_float(number_str):\n",
    "  \"\"\"\n",
    "  1.950,35 => 1950.35\n",
    "  \"\"\"\n",
    "  return float(number_str.replace(\".\",\"\").replace(\",\",\".\"))"
   ]
  },
  {
   "cell_type": "code",
   "execution_count": null,
   "id": "eb94b049-d7b9-41cf-aab3-fccc787e5777",
   "metadata": {},
   "outputs": [],
   "source": [
    "def parse_revolut(csv_file, remove_positive_cash_flow=False, remove_negative_cash_flow=False):\n",
    "    \n",
    "    df = pd.read_csv(\n",
    "        csv_file,\n",
    "        sep=\",\",\n",
    "        parse_dates=['Started Date', 'Completed Date'],\n",
    "        date_format='%Y-%m-%d %H:%M:%S'\n",
    "    )\n",
    "    print(f\"Loaded {len(df)} records\")\n",
    "    df = df[(df['Started Date'] >= start_date) & (df['Completed Date'] <= end_date)]\n",
    "    print(f\"Removed records (timestamps). Remaining: {len(df)}\")\n",
    "    df.drop(df[df.Description == \"Top-Up by *9994\"].index, inplace=True)\n",
    "    df.drop(df[df.Description == \"Payment from Baroncelli Leonardo\"].index, inplace=True)\n",
    "    df.drop(df[df.Description == \"To EUR Risparmi\"].index, inplace=True)\n",
    "    df.drop(df[df.Description == \"To EUR\"].index, inplace=True)\n",
    "    df.drop(df[df.Description == \"To Leonardo Baroncelli\"].index, inplace=True)\n",
    "\n",
    "    print(f\"Removing records (in cash-flow: top-ups from Unicredit, transfers to savings, transfer to Unicredit). Remaining: {len(df)}\")\n",
    "\n",
    "    # Removing records with 0 amount, if any\n",
    "    df.drop(df[df['Amount'] == 0].index, inplace=True)\n",
    "\n",
    "    # Remove earnings\n",
    "    if remove_positive_cash_flow:\n",
    "        df.drop(df[df['Amount'] > 0].index, inplace=True)\n",
    "        print(f\"Removing records (in cash-flow). Remaining: {len(df)}\")\n",
    "\n",
    "    if remove_negative_cash_flow:\n",
    "        df.drop(df[df['Amount'] < 0].index, inplace=True)\n",
    "        print(f\"Removing records (out cash-flow). Remaining: {len(df)}\")\n",
    "    \n",
    "    # Remove atm withdrawal\n",
    "    df.drop(df[df['Type'] == \"ATM\"].index, inplace=True)\n",
    "    return df"
   ]
  },
  {
   "cell_type": "code",
   "execution_count": null,
   "id": "67104b63-6dae-4b31-b9cb-d15b01449c4f",
   "metadata": {},
   "outputs": [],
   "source": [
    "def parse_unicredit(csv_file, remove_positive_cash_flow=False, remove_negative_cash_flow=False):\n",
    "    \n",
    "    df = pd.read_csv(\n",
    "        csv_file,\n",
    "        sep=\";\",\n",
    "        parse_dates=['Data Registrazione', 'Data valuta'],\n",
    "        date_format='%d.%m.%Y'\n",
    "    )\n",
    "    print(f\"Loaded {len(df)} records\")\n",
    "    df.rename(columns={\n",
    "        'Data Registrazione': 'Started Date', \n",
    "        'Data valuta': 'Completed Date',\n",
    "        'Descrizione' : 'Description',\n",
    "        'Importo (EUR)' : 'Amount'\n",
    "    }, inplace=True)\n",
    "    df = df[(df['Started Date'] >= start_date) & (df['Completed Date'] <= end_date)]\n",
    "    print(f\"Removing records (timestamps). Remaining: {len(df)}\")\n",
    "    for col_name in df.columns.values:\n",
    "        if \"Unnamed\" in col_name:\n",
    "            df.drop(col_name, inplace=True, axis=1)\n",
    "    assert len(df.columns) == 4\n",
    "    df[\"Amount\"] = df[\"Amount\"].transform(to_float)\n",
    "\n",
    "    # Removing records with 0 amount, if any\n",
    "    df.drop(df[df['Amount'] == 0].index, inplace=True)\n",
    "    print(f\"Removing records (amount=0). Remaining: {len(df)}\")\n",
    "    \n",
    "    df = df[~df['Description'].str.contains(\"Revolut\")]\n",
    "    df = df[~df['Description'].str.contains(\"LEONARDO BARONCELLI REV\")]\n",
    "    print(f\"Removing records (transfers to Revolut). Remaining: {len(df)}\")\n",
    "\n",
    "    df = df[~df['Description'].str.contains(\"PRELIEVO MASTERCARD\")]\n",
    "    print(f\"Removing records (cash out). Remaining: {len(df)}\")\n",
    "\n",
    "    if remove_positive_cash_flow:\n",
    "        df.drop(df[df['Amount'] > 0].index, inplace=True)\n",
    "        print(f\"Removing records (in cash-flow). Remaining: {len(df)}\")\n",
    "\n",
    "    if remove_negative_cash_flow:\n",
    "        df.drop(df[df['Amount'] < 0].index, inplace=True)\n",
    "        print(f\"Removing records (out cash-flow). Remaining: {len(df)}\")    \n",
    "    \n",
    "    return df"
   ]
  },
  {
   "cell_type": "code",
   "execution_count": null,
   "id": "6813b227-78d2-4f5d-8fcc-dd766fe4d36f",
   "metadata": {},
   "outputs": [],
   "source": [
    "def get_raw(df, change_sign_of_amounts=False):\n",
    "    if change_sign_of_amounts:\n",
    "        df['Amount'] = df['Amount'].apply(lambda x: x*-1) \n",
    "    df['Description'] = df['Description'].apply(lambda x: \" \".join(x.split()))\n",
    "    pattern = r'PAGAMENTO MASTERCARD.*?CARTA \\*\\d{4} DI EUR \\d+,\\d+ '\n",
    "    df['Description'] = df['Description'].apply(lambda x: re.sub(pattern,'', x))\n",
    "    with tempfile.TemporaryDirectory() as tmp:\n",
    "        path = os.path.join(tmp, 'temp_csv')\n",
    "        df.to_csv(path, columns=[\"Description\", \"Started Date\", \"Amount\"], sep=';', index=False, header=False)\n",
    "        with open(path, \"r\") as f:\n",
    "            lines = f.readlines()\n",
    "    for l in lines:\n",
    "        print(l, end='')"
   ]
  },
  {
   "cell_type": "markdown",
   "id": "c6418cb8-d058-4592-b3ed-5e0d4dd40cb5",
   "metadata": {},
   "source": [
    "# Negative cash-flow"
   ]
  },
  {
   "cell_type": "code",
   "execution_count": null,
   "id": "96fb7c77-ab43-4d91-855f-1185462e95a9",
   "metadata": {},
   "outputs": [],
   "source": [
    "rev_df = parse_revolut(\n",
    "    REV_CSV,\n",
    "    remove_positive_cash_flow=True\n",
    ")"
   ]
  },
  {
   "cell_type": "code",
   "execution_count": null,
   "id": "44c8a10f-2a3a-42af-bcbd-1984196d9b68",
   "metadata": {},
   "outputs": [],
   "source": [
    "get_raw(rev_df, change_sign_of_amounts=True)"
   ]
  },
  {
   "cell_type": "code",
   "execution_count": null,
   "id": "c1f2c78e-a39b-4035-b1bc-bc51b2db6b50",
   "metadata": {},
   "outputs": [],
   "source": [
    "rev_df"
   ]
  },
  {
   "cell_type": "code",
   "execution_count": null,
   "id": "b0187877-21cf-4e58-9f8e-f67339f65f68",
   "metadata": {},
   "outputs": [],
   "source": []
  },
  {
   "cell_type": "code",
   "execution_count": null,
   "id": "c2771fef-867e-4271-bfaa-0141b22fd638",
   "metadata": {},
   "outputs": [],
   "source": [
    "uni_df = parse_unicredit(\n",
    "    UNI_CSV,\n",
    "    remove_positive_cash_flow=True\n",
    ")"
   ]
  },
  {
   "cell_type": "code",
   "execution_count": null,
   "id": "adbef481-5aa2-4311-922a-966052a91273",
   "metadata": {},
   "outputs": [],
   "source": [
    "#display(uni_df)"
   ]
  },
  {
   "cell_type": "code",
   "execution_count": null,
   "id": "b53bb997-496e-4d6e-a6f4-9fa2c02398bd",
   "metadata": {},
   "outputs": [],
   "source": [
    "get_raw(uni_df, change_sign_of_amounts=True)"
   ]
  },
  {
   "cell_type": "markdown",
   "id": "44ef7118-89d7-4406-9497-dffc30a3fac1",
   "metadata": {},
   "source": [
    "# Positive cash-flow"
   ]
  },
  {
   "cell_type": "code",
   "execution_count": null,
   "id": "fde12023-ab93-4c18-b9a2-355269fa5ff1",
   "metadata": {},
   "outputs": [],
   "source": [
    "rev_df = parse_revolut(\n",
    "    REV_CSV,\n",
    "    remove_negative_cash_flow=True\n",
    ")"
   ]
  },
  {
   "cell_type": "code",
   "execution_count": null,
   "id": "3d13b16c-6aea-4652-a900-2938a7244210",
   "metadata": {},
   "outputs": [],
   "source": [
    "rev_df"
   ]
  },
  {
   "cell_type": "code",
   "execution_count": null,
   "id": "4c55f3db-4faf-446a-9626-29fb2ce11a16",
   "metadata": {},
   "outputs": [],
   "source": [
    "uni_df = parse_unicredit(\n",
    "    UNI_CSV,\n",
    "    remove_negative_cash_flow=True\n",
    ")"
   ]
  },
  {
   "cell_type": "code",
   "execution_count": null,
   "id": "5f53df31-8e27-4883-944f-f26e3dc9e285",
   "metadata": {},
   "outputs": [],
   "source": [
    "uni_df"
   ]
  },
  {
   "cell_type": "code",
   "execution_count": null,
   "id": "1e68b7e4-c131-422e-9998-c7a92df03a72",
   "metadata": {},
   "outputs": [],
   "source": []
  },
  {
   "cell_type": "code",
   "execution_count": null,
   "id": "5c415433-3727-4c24-9cf8-689169d92159",
   "metadata": {},
   "outputs": [],
   "source": []
  },
  {
   "cell_type": "code",
   "execution_count": null,
   "id": "f2674858-8210-48bb-b155-c7f6e1b7b462",
   "metadata": {},
   "outputs": [],
   "source": []
  }
 ],
 "metadata": {
  "kernelspec": {
   "display_name": "Python 3 (ipykernel)",
   "language": "python",
   "name": "python3"
  },
  "language_info": {
   "codemirror_mode": {
    "name": "ipython",
    "version": 3
   },
   "file_extension": ".py",
   "mimetype": "text/x-python",
   "name": "python",
   "nbconvert_exporter": "python",
   "pygments_lexer": "ipython3",
   "version": "3.10.12"
  }
 },
 "nbformat": 4,
 "nbformat_minor": 5
}
